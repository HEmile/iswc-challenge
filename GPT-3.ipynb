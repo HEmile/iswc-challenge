{
 "cells": [
  {
   "cell_type": "code",
   "execution_count": 42,
   "metadata": {},
   "outputs": [],
   "source": [
    "import os\n",
    "import openai\n",
    "import ast\n",
    "import pandas as pd\n",
    "\n",
    "openai.api_key = os.getenv(\"OPENAI_API_KEY\")\n",
    "\n",
    "def gpt3(text):\n",
    "    \"\"\" functions to clean up api output \"\"\"\n",
    "    response = openai.Completion.create(\n",
    "      model=\"text-davinci-002\",\n",
    "      prompt=prompt,\n",
    "      temperature=0,\n",
    "      max_tokens=20,\n",
    "      top_p=1,\n",
    "      frequency_penalty=0,\n",
    "      presence_penalty=0\n",
    "    )\n",
    "    return response.choices[0]['text']"
   ]
  },
  {
   "cell_type": "code",
   "execution_count": 43,
   "metadata": {},
   "outputs": [],
   "source": [
    "def clean_up(text):\n",
    "    \"\"\" functions to clean up api output \"\"\"\n",
    "    return text.strip()"
   ]
  },
  {
   "cell_type": "markdown",
   "metadata": {},
   "source": [
    "## ChemicalCompoundElement"
   ]
  },
  {
   "cell_type": "code",
   "execution_count": 45,
   "metadata": {},
   "outputs": [
    {
     "name": "stdout",
     "output_type": "stream",
     "text": [
      "['Nitrogen', 'Hydrogen', 'Oxygen']\n"
     ]
    }
   ],
   "source": [
    "prompt = \"\"\"\n",
    "What are all the chemical elements that make up the molecule water?\n",
    "\n",
    "['Hydrogen', 'Water']\n",
    "\n",
    "What are all the chemical elements that make up the molecule aspirin?\n",
    "\n",
    "['Oxygen', 'Carbon', 'Hydrogen']\n",
    "\n",
    "What are all the chemical elements that make up the molecule ammonium nitrate?\n",
    "\n",
    "\"\"\"\n",
    "\n",
    "x = gpt3(prompt)\n",
    "x = clean_up(x)\n",
    "print(x)"
   ]
  },
  {
   "cell_type": "markdown",
   "metadata": {},
   "source": [
    "## PersonEmployer"
   ]
  },
  {
   "cell_type": "code",
   "execution_count": 51,
   "metadata": {},
   "outputs": [
    {
     "name": "stdout",
     "output_type": "stream",
     "text": [
      "['Search Engine Land']\n"
     ]
    }
   ],
   "source": [
    "prompt = \"\"\"\n",
    "Where is or was Susan Wojcicki employed?\n",
    "\n",
    "['Google']\n",
    "\n",
    "Where is or was Steve Wozniak employed?\n",
    "\n",
    "['Apple Inc', 'Hewlett-Packard', 'University of Technology Sydney', 'Atari, Atari Inc']\n",
    "\n",
    "Where is or was Danny Sullivan employed?\n",
    "\n",
    "\"\"\"\n",
    "\n",
    "x = gpt3(prompt)\n",
    "x = clean_up(x)\n",
    "print(x)"
   ]
  },
  {
   "cell_type": "markdown",
   "metadata": {},
   "source": [
    "# CompanyParentOrganization"
   ]
  },
  {
   "cell_type": "code",
   "execution_count": 35,
   "metadata": {},
   "outputs": [
    {
     "name": "stdout",
     "output_type": "stream",
     "text": [
      "['suzuki motor corporation']\n"
     ]
    }
   ],
   "source": [
    "prompt = \"\"\"\n",
    "What is the parent company of Microsoft?\n",
    "\n",
    "['None']\n",
    "\n",
    "What is the parent company of Sony?\n",
    "\n",
    "['sony group', 'sony']\n",
    "\n",
    "What is the parent company of Suzuki?\n",
    "\"\"\"\n",
    "\n",
    "x = gpt3(prompt)\n",
    "x = clean_up(x)\n",
    "print(x)"
   ]
  },
  {
   "cell_type": "code",
   "execution_count": 54,
   "metadata": {},
   "outputs": [
    {
     "data": {
      "text/html": [
       "<div>\n",
       "<style scoped>\n",
       "    .dataframe tbody tr th:only-of-type {\n",
       "        vertical-align: middle;\n",
       "    }\n",
       "\n",
       "    .dataframe tbody tr th {\n",
       "        vertical-align: top;\n",
       "    }\n",
       "\n",
       "    .dataframe thead th {\n",
       "        text-align: right;\n",
       "    }\n",
       "</style>\n",
       "<table border=\"1\" class=\"dataframe\">\n",
       "  <thead>\n",
       "    <tr style=\"text-align: right;\">\n",
       "      <th></th>\n",
       "      <th>SubjectEntity</th>\n",
       "      <th>relation</th>\n",
       "      <th>ObjectEntity</th>\n",
       "    </tr>\n",
       "  </thead>\n",
       "  <tbody>\n",
       "    <tr>\n",
       "      <th>0</th>\n",
       "      <td>Adam Back</td>\n",
       "      <td>PersonEmployer</td>\n",
       "      <td>['blockstream']</td>\n",
       "    </tr>\n",
       "    <tr>\n",
       "      <th>1</th>\n",
       "      <td>Ahn Cheol-soo</td>\n",
       "      <td>PersonEmployer</td>\n",
       "      <td>['seoul national university']</td>\n",
       "    </tr>\n",
       "    <tr>\n",
       "      <th>2</th>\n",
       "      <td>Ahn Cheol-soo</td>\n",
       "      <td>PersonEmployer</td>\n",
       "      <td>['kaist']</td>\n",
       "    </tr>\n",
       "    <tr>\n",
       "      <th>3</th>\n",
       "      <td>Al Gore</td>\n",
       "      <td>PersonEmployer</td>\n",
       "      <td>['middle tennessee state university']</td>\n",
       "    </tr>\n",
       "    <tr>\n",
       "      <th>4</th>\n",
       "      <td>Al Gore</td>\n",
       "      <td>PersonEmployer</td>\n",
       "      <td>['university of california, los angeles']</td>\n",
       "    </tr>\n",
       "    <tr>\n",
       "      <th>...</th>\n",
       "      <td>...</td>\n",
       "      <td>...</td>\n",
       "      <td>...</td>\n",
       "    </tr>\n",
       "    <tr>\n",
       "      <th>181</th>\n",
       "      <td>Yahtzee Croshaw</td>\n",
       "      <td>PersonEmployer</td>\n",
       "      <td>['pc gamer']</td>\n",
       "    </tr>\n",
       "    <tr>\n",
       "      <th>182</th>\n",
       "      <td>Yahtzee Croshaw</td>\n",
       "      <td>PersonEmployer</td>\n",
       "      <td>['hyper']</td>\n",
       "    </tr>\n",
       "    <tr>\n",
       "      <th>183</th>\n",
       "      <td>Yahtzee Croshaw</td>\n",
       "      <td>PersonEmployer</td>\n",
       "      <td>['escapist', 'the escapist']</td>\n",
       "    </tr>\n",
       "    <tr>\n",
       "      <th>184</th>\n",
       "      <td>Yukio Hatoyama</td>\n",
       "      <td>PersonEmployer</td>\n",
       "      <td>['senshu university']</td>\n",
       "    </tr>\n",
       "    <tr>\n",
       "      <th>185</th>\n",
       "      <td>Yukio Hatoyama</td>\n",
       "      <td>PersonEmployer</td>\n",
       "      <td>['tokyo institute of technology']</td>\n",
       "    </tr>\n",
       "  </tbody>\n",
       "</table>\n",
       "<p>186 rows × 3 columns</p>\n",
       "</div>"
      ],
      "text/plain": [
       "       SubjectEntity        relation  \\\n",
       "0          Adam Back  PersonEmployer   \n",
       "1      Ahn Cheol-soo  PersonEmployer   \n",
       "2      Ahn Cheol-soo  PersonEmployer   \n",
       "3            Al Gore  PersonEmployer   \n",
       "4            Al Gore  PersonEmployer   \n",
       "..               ...             ...   \n",
       "181  Yahtzee Croshaw  PersonEmployer   \n",
       "182  Yahtzee Croshaw  PersonEmployer   \n",
       "183  Yahtzee Croshaw  PersonEmployer   \n",
       "184   Yukio Hatoyama  PersonEmployer   \n",
       "185   Yukio Hatoyama  PersonEmployer   \n",
       "\n",
       "                                  ObjectEntity  \n",
       "0                              ['blockstream']  \n",
       "1                ['seoul national university']  \n",
       "2                                    ['kaist']  \n",
       "3        ['middle tennessee state university']  \n",
       "4    ['university of california, los angeles']  \n",
       "..                                         ...  \n",
       "181                               ['pc gamer']  \n",
       "182                                  ['hyper']  \n",
       "183               ['escapist', 'the escapist']  \n",
       "184                      ['senshu university']  \n",
       "185          ['tokyo institute of technology']  \n",
       "\n",
       "[186 rows x 3 columns]"
      ]
     },
     "execution_count": 54,
     "metadata": {},
     "output_type": "execute_result"
    }
   ],
   "source": [
    "x = pd.read_csv(r'./train/PersonEmployer.csv')\n",
    "x"
   ]
  },
  {
   "cell_type": "code",
   "execution_count": 18,
   "metadata": {},
   "outputs": [],
   "source": [
    "i = dict()\n",
    "for triple in body: \n",
    "    s, p, o = triple \n",
    "    if s not in i: \n",
    "        i[s] = [o]\n",
    "    else: \n",
    "        i[s].append(o)"
   ]
  },
  {
   "cell_type": "code",
   "execution_count": 55,
   "metadata": {},
   "outputs": [
    {
     "name": "stdout",
     "output_type": "stream",
     "text": [
      "<class 'list'>\n",
      "['\\'seoul national university\\']\"', '\"[\\'kaist\\'']\n"
     ]
    }
   ],
   "source": [
    "def string2list(string):\n",
    "    return string[1: -1].split(\", \")\n",
    " \n",
    "# Driver code   \n",
    "str1 = '''['seoul national university']\", \"['kaist']'''\n",
    "print(type(string2list(str1)))\n",
    "print(string2list(str1))"
   ]
  },
  {
   "cell_type": "code",
   "execution_count": 56,
   "metadata": {},
   "outputs": [
    {
     "data": {
      "text/plain": [
       "0                                ['blockstream']\n",
       "1                  ['seoul national university']\n",
       "2                                      ['kaist']\n",
       "3          ['middle tennessee state university']\n",
       "4      ['university of california, los angeles']\n",
       "                         ...                    \n",
       "181                                 ['pc gamer']\n",
       "182                                    ['hyper']\n",
       "183                 ['escapist', 'the escapist']\n",
       "184                        ['senshu university']\n",
       "185            ['tokyo institute of technology']\n",
       "Name: ObjectEntity, Length: 186, dtype: object"
      ]
     },
     "execution_count": 56,
     "metadata": {},
     "output_type": "execute_result"
    }
   ],
   "source": [
    "x['ObjectEntity'].apply(string2list)"
   ]
  },
  {
   "cell_type": "code",
   "execution_count": null,
   "metadata": {},
   "outputs": [],
   "source": []
  }
 ],
 "metadata": {
  "kernelspec": {
   "display_name": "Python 3",
   "language": "python",
   "name": "python3"
  },
  "language_info": {
   "codemirror_mode": {
    "name": "ipython",
    "version": 3
   },
   "file_extension": ".py",
   "mimetype": "text/x-python",
   "name": "python",
   "nbconvert_exporter": "python",
   "pygments_lexer": "ipython3",
   "version": "3.7.3"
  }
 },
 "nbformat": 4,
 "nbformat_minor": 2
}
