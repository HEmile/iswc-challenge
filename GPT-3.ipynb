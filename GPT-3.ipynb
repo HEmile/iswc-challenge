{
 "cells": [
  {
   "cell_type": "code",
   "execution_count": 2,
   "metadata": {},
   "outputs": [],
   "source": [
    "import os\n",
    "import openai\n",
    "import ast\n",
    "\n",
    "openai.api_key = os.getenv(\"OPENAI_API_KEY\")\n",
    "\n",
    "def gpt3(text):\n",
    "    \"\"\" functions to clean up api output \"\"\"\n",
    "    response = openai.Completion.create(\n",
    "      model=\"text-davinci-002\",\n",
    "      prompt=prompt,\n",
    "      temperature=0,\n",
    "      max_tokens=256,\n",
    "      top_p=1,\n",
    "      frequency_penalty=0,\n",
    "      presence_penalty=0\n",
    "    )\n",
    "    return response.choices[0]['text']"
   ]
  },
  {
   "cell_type": "code",
   "execution_count": 3,
   "metadata": {},
   "outputs": [],
   "source": [
    "def clean_up(text):\n",
    "    \"\"\" functions to clean up api output \"\"\"\n",
    "    return text.strip()"
   ]
  },
  {
   "cell_type": "markdown",
   "metadata": {},
   "source": [
    "## ChemicalCompoundElement"
   ]
  },
  {
   "cell_type": "code",
   "execution_count": 7,
   "metadata": {},
   "outputs": [
    {
     "name": "stdout",
     "output_type": "stream",
     "text": [
      "['Nitrogen', 'Hydrogen', 'Oxygen']\n"
     ]
    }
   ],
   "source": [
    "prompt = \"\"\"\n",
    "What are all the chemical elements that make up the molecule water?\n",
    "\n",
    "['Hydrogen', 'Water']\n",
    "\n",
    "What are all the chemical elements that make up the molecule aspirin?\n",
    "\n",
    "['Oxygen', 'Carbon', 'Hydrogen']\n",
    "\n",
    "What are all the chemical elements that make up the molecule ammonium nitrate?\n",
    "\n",
    "\"\"\"\n",
    "\n",
    "x = gpt3(prompt)\n",
    "x = clean_up(x)\n",
    "x = ast.literal_eval(x)  # converts string \n",
    "print(x)"
   ]
  },
  {
   "cell_type": "code",
   "execution_count": null,
   "metadata": {},
   "outputs": [],
   "source": []
  }
 ],
 "metadata": {
  "kernelspec": {
   "display_name": "Python 3",
   "language": "python",
   "name": "python3"
  },
  "language_info": {
   "codemirror_mode": {
    "name": "ipython",
    "version": 3
   },
   "file_extension": ".py",
   "mimetype": "text/x-python",
   "name": "python",
   "nbconvert_exporter": "python",
   "pygments_lexer": "ipython3",
   "version": "3.7.3"
  }
 },
 "nbformat": 4,
 "nbformat_minor": 2
}
