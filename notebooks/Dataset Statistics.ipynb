{
 "cells": [
  {
   "cell_type": "markdown",
   "metadata": {},
   "source": [
    "## Data exploration - lm-kbc challenge"
   ]
  },
  {
   "cell_type": "code",
   "execution_count": null,
   "metadata": {},
   "outputs": [],
   "source": [
    "import json\n",
    "import pandas as pd\n",
    "import seaborn as sns\n",
    "import matplotlib.pyplot as plt"
   ]
  },
  {
   "cell_type": "code",
   "execution_count": null,
   "metadata": {},
   "outputs": [],
   "source": [
    "from pathlib import Path\n",
    "from typing import List, Dict, Union\n",
    "\n",
    "\n",
    "\n",
    "def read_lm_kbc_jsonl(file_path: Union[str, Path]) -> List[Dict]:\n",
    "    \"\"\"\n",
    "    Reads a LM-KBC jsonl file and returns a list of dictionaries.\n",
    "    Args:\n",
    "        file_path: path to the jsonl file\n",
    "    Returns:\n",
    "        list of dictionaries, each possibly has the following keys:\n",
    "        - \"SubjectEntity\": str\n",
    "        - \"Relation\": str\n",
    "        - \"ObjectEntities\":\n",
    "            None or List[List[str]] (can be omitted for the test input)\n",
    "    \"\"\"\n",
    "    rows = []\n",
    "    with open(file_path, \"r\") as f:\n",
    "        for line in f:\n",
    "            row = json.loads(line)\n",
    "            rows.append(row)\n",
    "    return rows\n",
    "\n",
    "\n",
    "def read_lm_kbc_jsonl_to_df(file_path: Union[str, Path]) -> pd.DataFrame:\n",
    "    \"\"\"\n",
    "    Reads a LM-KBC jsonl file and returns a dataframe.\n",
    "    \"\"\"\n",
    "    rows = read_lm_kbc_jsonl(file_path)\n",
    "    df = pd.DataFrame(rows)\n",
    "    return df"
   ]
  },
  {
   "cell_type": "markdown",
   "metadata": {},
   "source": [
    "### Load dev set"
   ]
  },
  {
   "cell_type": "code",
   "execution_count": null,
   "metadata": {},
   "outputs": [],
   "source": [
    "dev = read_lm_kbc_jsonl_to_df('dev_checkup.jsonl')"
   ]
  },
  {
   "cell_type": "code",
   "execution_count": null,
   "metadata": {},
   "outputs": [],
   "source": [
    "# Count unique s,r \n",
    "dev.groupby('Relation').count()"
   ]
  },
  {
   "cell_type": "code",
   "execution_count": null,
   "metadata": {},
   "outputs": [],
   "source": [
    "dev[dev['Relation']=='PersonProfession'][:2]"
   ]
  },
  {
   "cell_type": "markdown",
   "metadata": {},
   "source": [
    "### Load train set"
   ]
  },
  {
   "cell_type": "code",
   "execution_count": null,
   "metadata": {},
   "outputs": [],
   "source": [
    "train_set = read_lm_kbc_jsonl_to_df('data/train.jsonl')"
   ]
  },
  {
   "cell_type": "code",
   "execution_count": null,
   "metadata": {},
   "outputs": [],
   "source": [
    "train_set['counts'] = train_set['ObjectEntities'].apply(lambda x: len(x))"
   ]
  },
  {
   "cell_type": "code",
   "execution_count": null,
   "metadata": {},
   "outputs": [],
   "source": [
    "grouped = train_set.groupby('Relation')"
   ]
  },
  {
   "cell_type": "code",
   "execution_count": null,
   "metadata": {},
   "outputs": [],
   "source": [
    "grouped.count()"
   ]
  },
  {
   "cell_type": "code",
   "execution_count": null,
   "metadata": {
    "scrolled": false
   },
   "outputs": [],
   "source": [
    "train_set.groupby('Relation').hist(by=train_set['Relation'])"
   ]
  },
  {
   "cell_type": "code",
   "execution_count": null,
   "metadata": {},
   "outputs": [],
   "source": [
    "plt.tight_layout()\n",
    "train_set.counts.hist(by=train_set['Relation'],\n",
    "                      grid=True,\n",
    "                      layout=(6,2),\n",
    "                      figsize=(10,15),\n",
    "                      xlabelsize=10,\n",
    "                      ylabelsize=10,\n",
    "                      xrot=15)\n",
    "\n",
    "plt.savefig('relation_statistics_train_set.pdf',\n",
    "           dpi=150)"
   ]
  },
  {
   "cell_type": "code",
   "execution_count": null,
   "metadata": {},
   "outputs": [],
   "source": [
    "grouped = train_set.groupby('Relation')"
   ]
  },
  {
   "cell_type": "code",
   "execution_count": null,
   "metadata": {},
   "outputs": [],
   "source": [
    "(grouped.counts.value_counts()\n",
    "   .unstack().plot.bar(width=1, stacked=False))"
   ]
  },
  {
   "cell_type": "code",
   "execution_count": null,
   "metadata": {
    "scrolled": false
   },
   "outputs": [],
   "source": [
    "train_set.groupby('Relation').hist(sharex=True,\n",
    "                                   sharey=True)"
   ]
  },
  {
   "cell_type": "markdown",
   "metadata": {},
   "source": [
    "#### \n",
    "    "
   ]
  },
  {
   "cell_type": "code",
   "execution_count": null,
   "metadata": {},
   "outputs": [],
   "source": [
    "# def count_anwers(list_of_lists):"
   ]
  },
  {
   "cell_type": "code",
   "execution_count": null,
   "metadata": {},
   "outputs": [],
   "source": [
    "import seaborn as sns"
   ]
  },
  {
   "cell_type": "code",
   "execution_count": null,
   "metadata": {},
   "outputs": [],
   "source": [
    "train_set.groupby('Relation').hist()"
   ]
  },
  {
   "cell_type": "code",
   "execution_count": null,
   "metadata": {},
   "outputs": [],
   "source": [
    "train_set.groupby('Relation').count()"
   ]
  },
  {
   "cell_type": "code",
   "execution_count": null,
   "metadata": {},
   "outputs": [],
   "source": [
    "train_set_selaki = train_set.groupby('Relation').reset_index(drop=True)"
   ]
  },
  {
   "cell_type": "code",
   "execution_count": null,
   "metadata": {},
   "outputs": [],
   "source": [
    "tryout"
   ]
  },
  {
   "cell_type": "markdown",
   "metadata": {},
   "source": [
    "### Get data statistics\n",
    "\n",
    "- "
   ]
  },
  {
   "cell_type": "code",
   "execution_count": null,
   "metadata": {},
   "outputs": [],
   "source": [
    "dev_set = read_lm_kbc_jsonl_to_df('data/dev.jsonl')"
   ]
  },
  {
   "cell_type": "code",
   "execution_count": null,
   "metadata": {},
   "outputs": [],
   "source": [
    "dev_set[dev_set['Relation'] == 'PersonProfession']['ObjectEntities']"
   ]
  },
  {
   "cell_type": "code",
   "execution_count": null,
   "metadata": {},
   "outputs": [],
   "source": [
    "dev_set['counts'] = dev_set['ObjectEntities'].apply(lambda x: len(x))"
   ]
  },
  {
   "cell_type": "code",
   "execution_count": null,
   "metadata": {},
   "outputs": [],
   "source": [
    "plt.tight_layout()\n",
    "dev_set.counts.hist(by=dev_set['Relation'],\n",
    "                      grid=True,\n",
    "                      layout=(6,2),\n",
    "                      figsize=(10,15),\n",
    "                      xlabelsize=10,\n",
    "                      ylabelsize=10,\n",
    "                      xrot=15)\n",
    "\n",
    "plt.savefig('relation_statistics_dev_set.pdf',\n",
    "           dpi=150)"
   ]
  },
  {
   "cell_type": "code",
   "execution_count": null,
   "metadata": {},
   "outputs": [],
   "source": [
    "person_employer = train_set[train_set['Relation'] == 'PersonCauseOfDeath']"
   ]
  },
  {
   "cell_type": "code",
   "execution_count": null,
   "metadata": {},
   "outputs": [],
   "source": [
    "pd.set_option(\"display.max_rows\", 100)"
   ]
  },
  {
   "cell_type": "code",
   "execution_count": null,
   "metadata": {
    "scrolled": false
   },
   "outputs": [],
   "source": [
    "person_employer[0:100]"
   ]
  },
  {
   "cell_type": "code",
   "execution_count": null,
   "metadata": {},
   "outputs": [],
   "source": [
    "person_employer_dev = dev[dev['Relation'] == 'PersonEmployer']"
   ]
  },
  {
   "cell_type": "code",
   "execution_count": null,
   "metadata": {},
   "outputs": [],
   "source": [
    "pd.set_option('display.max_colwidth', 255)\n",
    "\n",
    "person_employer_dev"
   ]
  },
  {
   "cell_type": "code",
   "execution_count": null,
   "metadata": {},
   "outputs": [],
   "source": [
    "temp = dev_set.groupby('Relation').agg({'counts': ['mean', 'std']})"
   ]
  },
  {
   "cell_type": "code",
   "execution_count": null,
   "metadata": {},
   "outputs": [],
   "source": [
    "temp = temp.sort_values(by=[('counts', 'mean'),('counts', 'mean')])"
   ]
  },
  {
   "cell_type": "code",
   "execution_count": null,
   "metadata": {},
   "outputs": [],
   "source": [
    "temp.to_latex('rel_means_std.tex')"
   ]
  },
  {
   "cell_type": "code",
   "execution_count": null,
   "metadata": {},
   "outputs": [],
   "source": [
    "temp_stats = temp.agg({'counts': ['mean', 'std']})"
   ]
  },
  {
   "cell_type": "code",
   "execution_count": null,
   "metadata": {},
   "outputs": [],
   "source": [
    "temp_stats"
   ]
  },
  {
   "cell_type": "code",
   "execution_count": null,
   "metadata": {},
   "outputs": [],
   "source": [
    "temp"
   ]
  },
  {
   "cell_type": "code",
   "execution_count": null,
   "metadata": {},
   "outputs": [],
   "source": [
    "temp.to_csv('avg_num_answers_per_rel_type.csv')"
   ]
  },
  {
   "cell_type": "markdown",
   "metadata": {},
   "source": [
    "ADA\n",
    "\n",
    "| Relation                             | p     |r   |  f1|\n",
    "|--------------------------------------|:------|:------|:------|\n",
    "|ChemicalCompoundElement    |0.256  |0.225  |0.231|\n",
    "|CompanyParentOrganization  |0.120  |0.120  |0.120|\n",
    "|CountryBordersWithCountry  |0.066  |0.040  |0.046|\n",
    "|CountryOfficialLanguage    |0.142  |0.145  |0.133|\n",
    "|PersonCauseOfDeath         |0.160  |0.160  |0.160|\n",
    "|PersonEmployer             |0.000  |0.000  |0.000|\n",
    "|PersonInstrument           |0.297  |0.352  |0.270|\n",
    "|PersonLanguage             |0.331  |0.702  |0.394|\n",
    "|PersonPlaceOfDeath         |0.040  |0.040  |0.040|\n",
    "|PersonProfession           |0.281  |0.134  |0.156|\n",
    "|RiverBasinsCountry         |0.365  |0.349  |0.313|\n",
    "|StateSharesBorderState     |0.102  |0.060  |0.066|\n",
    "|*** Average ***            |0.180  |0.194  |0.161"
   ]
  },
  {
   "cell_type": "markdown",
   "metadata": {},
   "source": [
    "BABBAGE\n",
    "\n",
    "| Relation                             | p     |r   |  f1|\n",
    "|--------------------------------------|:------|:------|:------|\n",
    "|ChemicalCompoundElement    |0.357  |0.240  |0.275|\n",
    "|CompanyParentOrganization  |0.080  |0.080  |0.080|\n",
    "|CountryBordersWithCountry  |0.206  |0.171  |0.170|\n",
    "|CountryOfficialLanguage    |0.686  |0.629  |0.605|\n",
    "|PersonCauseOfDeath         |0.040  |0.040  |0.040|\n",
    "|PersonEmployer             |0.012  |0.017  |0.014|\n",
    "|PersonInstrument           |0.507  |0.463  |0.457|\n",
    "|PersonLanguage             |0.689  |0.657  |0.636|\n",
    "|PersonPlaceOfDeath         |0.000  |0.000  |0.000|\n",
    "|PersonProfession           |0.513  |0.219  |0.286|\n",
    "|RiverBasinsCountry         |0.700  |0.558  |0.578|\n",
    "|StateSharesBorderState     |0.117  |0.078  |0.088|\n",
    "|*** Average ***            |0.325  |0.263  |0.269|"
   ]
  },
  {
   "cell_type": "markdown",
   "metadata": {},
   "source": [
    "CURIE\n",
    "\n",
    "| Relation                             | p     |r   |  f1|\n",
    "|--------------------------------------|:------|:------|:------|\n",
    "|ChemicalCompoundElement    |0.532  |0.521  |0.513|\n",
    "|CompanyParentOrganization  |0.140  |0.140  |0.140|\n",
    "|CountryBordersWithCountry  |0.517  |0.487  |0.462|\n",
    "|CountryOfficialLanguage    |0.658  |0.768  |0.664|\n",
    "|PersonCauseOfDeath         |0.040  |0.040  |0.040|\n",
    "|PersonEmployer             |0.043  |0.067  |0.050|\n",
    "|PersonInstrument           |0.318  |0.421  |0.326|\n",
    "|PersonLanguage             |0.752  |0.833  |0.739|\n",
    "|PersonPlaceOfDeath         |0.000  |0.000  |0.000|\n",
    "|PersonProfession           |0.683  |0.312  |0.383|\n",
    "|RiverBasinsCountry         |0.598  |0.711  |0.604|\n",
    "|StateSharesBorderState     |0.255  |0.195  |0.198|\n",
    "|*** Average ***            |0.378  |0.375  |0.343|"
   ]
  },
  {
   "cell_type": "markdown",
   "metadata": {},
   "source": [
    "Da-Vinci\n",
    "\n",
    "\n",
    "| Relation                             | p     |r   |  f1|\n",
    "|--------------------------------------|:------|:------|:------|\n",
    "|ChemicalCompoundElement    |0.905  |0.894  |0.894|\n",
    "|CompanyParentOrganization  |0.685  |0.700  |0.688|\n",
    "|CountryBordersWithCountry  |0.830  |0.794  |0.792|\n",
    "|CountryOfficialLanguage    |0.824  |0.840  |0.788|\n",
    "|PersonCauseOfDeath         |0.600  |0.590  |0.593|\n",
    "|PersonEmployer             |0.276  |0.335  |0.270|\n",
    "|PersonInstrument           |0.589  |0.570  |0.551|\n",
    "|PersonLanguage             |0.755  |0.936  |0.797|\n",
    "|PersonPlaceOfDeath         |0.820  |0.820  |0.820|\n",
    "|PersonProfession           |0.735  |0.526  |0.582|\n",
    "|RiverBasinsCountry         |0.824  |0.851  |0.820|\n",
    "|StateSharesBorderState     |0.638  |0.472  |0.532|\n",
    "|*** Average ***            |0.707  |0.694  |0.677|"
   ]
  },
  {
   "cell_type": "markdown",
   "metadata": {},
   "source": [
    "### Scaling plot"
   ]
  },
  {
   "cell_type": "code",
   "execution_count": null,
   "metadata": {},
   "outputs": [],
   "source": [
    "data = {'Model': ['Ada (1024)', 'Babbage (2048)', 'Curie (4096)', 'Da-Vinci (12288)'],\n",
    "        'F1 Score': [0.161,0.269, 0.343, 0.677]}"
   ]
  },
  {
   "cell_type": "code",
   "execution_count": null,
   "metadata": {},
   "outputs": [],
   "source": [
    "data = pd.DataFrame(data)"
   ]
  },
  {
   "cell_type": "code",
   "execution_count": null,
   "metadata": {},
   "outputs": [],
   "source": [
    "%matplotlib inline"
   ]
  },
  {
   "cell_type": "code",
   "execution_count": null,
   "metadata": {},
   "outputs": [],
   "source": [
    "model_types = data.Model.to_list()\n",
    "performances = data['F1 Score'].to_list()"
   ]
  },
  {
   "cell_type": "code",
   "execution_count": null,
   "metadata": {},
   "outputs": [],
   "source": [
    "sns.set_style(\"darkgrid\")\n",
    "sns.set(rc = {'figure.figsize':(15,8)})\n",
    "\n",
    "ax = sns.lineplot(data=data, x='Model', y='F1 Score',\n",
    "            lw=2, marker='o')\n",
    "ax.set_title(\"Performance per Model Size\", fontsize=15)\n",
    "\n",
    "ax.set_xlabel(ax.get_xlabel(), fontdict={'weight': 'bold', 'size':16})\n",
    "ax.set_ylabel(ax.get_ylabel(), fontdict={'weight': 'bold','size':16})\n",
    "ax.tick_params(axis='x', labelrotation=45, labelsize=20)\n",
    "plt.tight_layout()\n",
    "plt.savefig('performance_per_model_size.pdf')"
   ]
  },
  {
   "cell_type": "code",
   "execution_count": null,
   "metadata": {},
   "outputs": [],
   "source": []
  },
  {
   "cell_type": "code",
   "execution_count": null,
   "metadata": {},
   "outputs": [],
   "source": []
  }
 ],
 "metadata": {
  "kernelspec": {
   "display_name": "iswc_challenge_env",
   "language": "python",
   "name": "iswc_env"
  },
  "language_info": {
   "codemirror_mode": {
    "name": "ipython",
    "version": 3
   },
   "file_extension": ".py",
   "mimetype": "text/x-python",
   "name": "python",
   "nbconvert_exporter": "python",
   "pygments_lexer": "ipython3",
   "version": "3.8.5"
  }
 },
 "nbformat": 4,
 "nbformat_minor": 4
}
